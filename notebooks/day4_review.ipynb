{
 "cells": [
  {
   "cell_type": "markdown",
   "metadata": {},
   "source": [
    "# Review\n",
    "\n",
    "## The Machine Learning Workflow\n",
    "\n",
    "![](./images/ml_workflow.png)\n",
    "\n",
    "## Review Questions\n",
    "\n",
    "### Miscellaneous\n",
    "\n",
    "1. What is Feature Selection?\n",
    "2. On an average, if we consider all possible datasets for binary classification task, which of the following algorithm is likely to do the best?\n",
    "    1. Random Coin-toss\n",
    "    2. Logistic Regression\n",
    "    3. Random Forest Classifier\n",
    "    \n",
    "### Linear Regression\n",
    "\n",
    "1. What is Linear Regression?\n",
    "2. How do we handle it in Linear Regression if our dataset is not linearly separable?\n",
    "3. How do we handle the problem of Multicollinearity in Linear Regression?\n",
    "\n",
    "### Hyperparameter Tuning\n",
    "\n",
    "1. What is the difference between parameter and hyperparameter?\n",
    "2. Why do we do hyperparameter tuning?\n",
    "3. Name at least two hyperparameter tuning strategies. Which one is better?\n",
    "\n",
    "### Cross-validation\n",
    "\n",
    "1. What is cross-validation?\n",
    "2. Why do we do cross-validation?\n",
    "3. In k-fold cross-validation. What should be the values of k?\n"
   ]
  },
  {
   "cell_type": "markdown",
   "metadata": {},
   "source": [
    "# Setting up\n",
    "\n",
    "* Follow instructions at https://github.com/soumendra/python-machinelearning-setup\n",
    "* Install the `greyatom` environment\n",
    "\n",
    "```bash\n",
    "conda env create -f greyatom.yml\n",
    "```"
   ]
  },
  {
   "cell_type": "markdown",
   "metadata": {},
   "source": []
  }
 ],
 "metadata": {
  "kernelspec": {
   "display_name": "Python 2",
   "language": "python",
   "name": "python2"
  },
  "language_info": {
   "codemirror_mode": {
    "name": "ipython",
    "version": 2
   },
   "file_extension": ".py",
   "mimetype": "text/x-python",
   "name": "python",
   "nbconvert_exporter": "python",
   "pygments_lexer": "ipython2",
   "version": "2.7.13"
  },
  "widgets": {
   "state": {},
   "version": "1.1.2"
  }
 },
 "nbformat": 4,
 "nbformat_minor": 2
}
